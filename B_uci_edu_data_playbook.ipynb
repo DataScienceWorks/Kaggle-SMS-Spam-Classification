{
 "cells": [
  {
   "cell_type": "markdown",
   "metadata": {},
   "source": [
    "## Play with complete dataset from uci.edu\n",
    "\n",
    "The objective of this is to better my learning with the complete datasest that is got from uci.edu archieves"
   ]
  },
  {
   "cell_type": "code",
   "execution_count": 1,
   "metadata": {},
   "outputs": [],
   "source": [
    "import io\n",
    "import numpy as np\n",
    "import pandas as pd\n",
    "import codecs # For file reading\n",
    "from IPython.display import FileLink # For displaying file link in cell-output"
   ]
  },
  {
   "cell_type": "markdown",
   "metadata": {},
   "source": [
    "## Read raw source and save it as csv file"
   ]
  },
  {
   "cell_type": "code",
   "execution_count": null,
   "metadata": {},
   "outputs": [],
   "source": [
    "# How do the lines look like in the target file?\n",
    "!head -n 10 ./data/uci_edu/SMSSpamCollection.txt"
   ]
  },
  {
   "cell_type": "code",
   "execution_count": null,
   "metadata": {},
   "outputs": [],
   "source": [
    "# Read input source\n",
    "with codecs.open('./data/uci_edu/SMSSpamCollection.txt') as f:\n",
    "    labels, messages = zip(*[line.split('\\t', maxsplit=2) for line in f.readlines()])"
   ]
  },
  {
   "cell_type": "code",
   "execution_count": null,
   "metadata": {},
   "outputs": [],
   "source": [
    "# Persist input source as CSV file\n",
    "df = pd.DataFrame(data={ 'Message' : messages, 'Label' : labels})\n",
    "df.to_csv('data/uci_edu/{}'.format('SMSSpamCollection.csv'), index=False)\n",
    "FileLink('data/uci_edu/{}'.format('SMSSpamCollection.csv'))\n",
    "df.head()"
   ]
  },
  {
   "cell_type": "markdown",
   "metadata": {},
   "source": [
    "## Shuffle-N-Split input source for Train-N-Test"
   ]
  },
  {
   "cell_type": "code",
   "execution_count": null,
   "metadata": {},
   "outputs": [],
   "source": [
    "df.isnull().sum() # Basic sanity check for null values"
   ]
  },
  {
   "cell_type": "code",
   "execution_count": null,
   "metadata": {},
   "outputs": [],
   "source": [
    "from sklearn.model_selection import StratifiedShuffleSplit\n",
    "sss = StratifiedShuffleSplit(n_splits=2, random_state=42, train_size=.7)\n",
    "splits = sss.split(df, df['Label'])\n",
    "train_indices, test_indices = [*splits][0]"
   ]
  },
  {
   "cell_type": "code",
   "execution_count": null,
   "metadata": {},
   "outputs": [],
   "source": [
    "print('Total Count = ', df.shape[0])\n",
    "print()\n",
    "\n",
    "train_mask = df.index.isin(train_indices)\n",
    "train = df[train_mask]\n",
    "print('Train Count = ', train.shape[0])\n",
    "print('Train value counts :\\n', train['Label'].value_counts())\n",
    "print()\n",
    "\n",
    "test = df[~train_mask]\n",
    "print('Test Count = ', test.shape[0])\n",
    "print('Test value counts :\\n', test['Label'].value_counts())"
   ]
  },
  {
   "cell_type": "code",
   "execution_count": null,
   "metadata": {},
   "outputs": [],
   "source": [
    "train.to_csv('data/uci_edu/train.csv', index_label=['Id'])\n",
    "test.to_csv('data/uci_edu/test.csv', index_label=['Id'])"
   ]
  },
  {
   "cell_type": "markdown",
   "metadata": {},
   "source": [
    "## Feature Extraction and Data Modeling"
   ]
  },
  {
   "cell_type": "code",
   "execution_count": 2,
   "metadata": {},
   "outputs": [],
   "source": [
    "train = pd.read_csv('data/uci_edu/train.csv', index_col='Id')\n",
    "test = pd.read_csv('data/uci_edu/test.csv', index_col='Id')"
   ]
  },
  {
   "cell_type": "code",
   "execution_count": 3,
   "metadata": {},
   "outputs": [
    {
     "name": "stderr",
     "output_type": "stream",
     "text": [
      "C:\\Anaconda3\\envs\\py36\\lib\\site-packages\\sklearn\\ensemble\\weight_boosting.py:29: DeprecationWarning: numpy.core.umath_tests is an internal NumPy module and should not be imported. It will be removed in a future NumPy release.\n",
      "  from numpy.core.umath_tests import inner1d\n"
     ]
    }
   ],
   "source": [
    "# Vectorizer or Feature Extractors\n",
    "from sklearn.feature_extraction.text import CountVectorizer, TfidfVectorizer, HashingVectorizer\n",
    "\n",
    "# Classifiers\n",
    "from sklearn.dummy import DummyClassifier\n",
    "from sklearn.naive_bayes import BernoulliNB, MultinomialNB\n",
    "from sklearn.neighbors import KNeighborsClassifier \n",
    "from sklearn.tree import DecisionTreeClassifier, ExtraTreeClassifier\n",
    "from sklearn.ensemble import BaggingClassifier, ExtraTreesClassifier, RandomForestClassifier\n",
    "from sklearn.ensemble import AdaBoostClassifier, GradientBoostingClassifier\n",
    "from sklearn.linear_model import RidgeClassifier, RidgeClassifierCV, PassiveAggressiveClassifier\n",
    "from sklearn.linear_model import SGDClassifier, LogisticRegression\n",
    "from sklearn.multiclass import OneVsRestClassifier\n",
    "from sklearn.svm import SVC\n",
    "from sklearn.calibration import CalibratedClassifierCV"
   ]
  },
  {
   "cell_type": "code",
   "execution_count": 4,
   "metadata": {},
   "outputs": [],
   "source": [
    "def vectorize_fit_score(vectorizer, classifier, train_df, test_df):\n",
    "    desc = '{0} and {1}'.format(vectorizer.__class__.__name__, classifier.__class__.__name__)\n",
    "#     print('Processing with {}'.format(desc))\n",
    "    \n",
    "    # 1. vectorize and fit\n",
    "    vectorized_text = vectorizer.fit_transform(train_df['Message'])\n",
    "    classifier.fit(vectorized_text, train_df['Label'])\n",
    "    # 2. vectorize and score\n",
    "    vectorized_text = vectorizer.transform(test_df['Message']) # Not `fit_transform` but just `transform`\n",
    "    score = classifier.score(vectorized_text, test_df['Label'])\n",
    "    \n",
    "    return [desc, score]"
   ]
  },
  {
   "cell_type": "code",
   "execution_count": null,
   "metadata": {},
   "outputs": [],
   "source": [
    "results = []\n",
    "results.append(vectorize_fit_score(CountVectorizer(), BernoulliNB(), train, test))\n",
    "results.append(vectorize_fit_score(TfidfVectorizer(), BernoulliNB(), train, test))\n",
    "results.append(vectorize_fit_score(HashingVectorizer(), BernoulliNB(), train, test))\n",
    "results.append(vectorize_fit_score(CountVectorizer(), MultinomialNB(), train, test))\n",
    "results.append(vectorize_fit_score(TfidfVectorizer(), MultinomialNB(), train, test))\n",
    "results.append(vectorize_fit_score(HashingVectorizer(non_negative=True), MultinomialNB(), train, test))\n",
    "results"
   ]
  },
  {
   "cell_type": "code",
   "execution_count": 6,
   "metadata": {},
   "outputs": [
    {
     "name": "stdout",
     "output_type": "stream",
     "text": [
      "Processing with CountVectorizer and DummyClassifier\n",
      "Processing with TfidfVectorizer and DummyClassifier\n",
      "Processing with HashingVectorizer and DummyClassifier\n"
     ]
    },
    {
     "name": "stderr",
     "output_type": "stream",
     "text": [
      "C:\\Anaconda3\\envs\\py36\\lib\\site-packages\\sklearn\\feature_extraction\\hashing.py:94: DeprecationWarning: the option non_negative=True has been deprecated in 0.19 and will be removed in version 0.21.\n",
      "  \" in version 0.21.\", DeprecationWarning)\n",
      "C:\\Anaconda3\\envs\\py36\\lib\\site-packages\\sklearn\\feature_extraction\\hashing.py:94: DeprecationWarning: the option non_negative=True has been deprecated in 0.19 and will be removed in version 0.21.\n",
      "  \" in version 0.21.\", DeprecationWarning)\n",
      "C:\\Anaconda3\\envs\\py36\\lib\\site-packages\\sklearn\\feature_extraction\\hashing.py:94: DeprecationWarning: the option non_negative=True has been deprecated in 0.19 and will be removed in version 0.21.\n",
      "  \" in version 0.21.\", DeprecationWarning)\n"
     ]
    },
    {
     "name": "stdout",
     "output_type": "stream",
     "text": [
      "Processing with CountVectorizer and BernoulliNB\n",
      "Processing with TfidfVectorizer and BernoulliNB\n",
      "Processing with HashingVectorizer and BernoulliNB\n",
      "Processing with CountVectorizer and MultinomialNB\n"
     ]
    },
    {
     "name": "stderr",
     "output_type": "stream",
     "text": [
      "C:\\Anaconda3\\envs\\py36\\lib\\site-packages\\sklearn\\feature_extraction\\hashing.py:94: DeprecationWarning: the option non_negative=True has been deprecated in 0.19 and will be removed in version 0.21.\n",
      "  \" in version 0.21.\", DeprecationWarning)\n",
      "C:\\Anaconda3\\envs\\py36\\lib\\site-packages\\sklearn\\feature_extraction\\hashing.py:94: DeprecationWarning: the option non_negative=True has been deprecated in 0.19 and will be removed in version 0.21.\n",
      "  \" in version 0.21.\", DeprecationWarning)\n",
      "C:\\Anaconda3\\envs\\py36\\lib\\site-packages\\sklearn\\feature_extraction\\hashing.py:94: DeprecationWarning: the option non_negative=True has been deprecated in 0.19 and will be removed in version 0.21.\n",
      "  \" in version 0.21.\", DeprecationWarning)\n"
     ]
    },
    {
     "name": "stdout",
     "output_type": "stream",
     "text": [
      "Processing with TfidfVectorizer and MultinomialNB\n",
      "Processing with HashingVectorizer and MultinomialNB\n"
     ]
    },
    {
     "name": "stderr",
     "output_type": "stream",
     "text": [
      "C:\\Anaconda3\\envs\\py36\\lib\\site-packages\\sklearn\\feature_extraction\\hashing.py:94: DeprecationWarning: the option non_negative=True has been deprecated in 0.19 and will be removed in version 0.21.\n",
      "  \" in version 0.21.\", DeprecationWarning)\n",
      "C:\\Anaconda3\\envs\\py36\\lib\\site-packages\\sklearn\\feature_extraction\\hashing.py:94: DeprecationWarning: the option non_negative=True has been deprecated in 0.19 and will be removed in version 0.21.\n",
      "  \" in version 0.21.\", DeprecationWarning)\n",
      "C:\\Anaconda3\\envs\\py36\\lib\\site-packages\\sklearn\\feature_extraction\\hashing.py:94: DeprecationWarning: the option non_negative=True has been deprecated in 0.19 and will be removed in version 0.21.\n",
      "  \" in version 0.21.\", DeprecationWarning)\n"
     ]
    },
    {
     "name": "stdout",
     "output_type": "stream",
     "text": [
      "Processing with CountVectorizer and KNeighborsClassifier\n",
      "Processing with TfidfVectorizer and KNeighborsClassifier\n",
      "Processing with HashingVectorizer and KNeighborsClassifier\n"
     ]
    },
    {
     "name": "stderr",
     "output_type": "stream",
     "text": [
      "C:\\Anaconda3\\envs\\py36\\lib\\site-packages\\sklearn\\feature_extraction\\hashing.py:94: DeprecationWarning: the option non_negative=True has been deprecated in 0.19 and will be removed in version 0.21.\n",
      "  \" in version 0.21.\", DeprecationWarning)\n",
      "C:\\Anaconda3\\envs\\py36\\lib\\site-packages\\sklearn\\feature_extraction\\hashing.py:94: DeprecationWarning: the option non_negative=True has been deprecated in 0.19 and will be removed in version 0.21.\n",
      "  \" in version 0.21.\", DeprecationWarning)\n",
      "C:\\Anaconda3\\envs\\py36\\lib\\site-packages\\sklearn\\feature_extraction\\hashing.py:94: DeprecationWarning: the option non_negative=True has been deprecated in 0.19 and will be removed in version 0.21.\n",
      "  \" in version 0.21.\", DeprecationWarning)\n"
     ]
    },
    {
     "name": "stdout",
     "output_type": "stream",
     "text": [
      "Processing with CountVectorizer and DecisionTreeClassifier\n",
      "Processing with TfidfVectorizer and DecisionTreeClassifier\n",
      "Processing with HashingVectorizer and DecisionTreeClassifier\n"
     ]
    },
    {
     "name": "stderr",
     "output_type": "stream",
     "text": [
      "C:\\Anaconda3\\envs\\py36\\lib\\site-packages\\sklearn\\feature_extraction\\hashing.py:94: DeprecationWarning: the option non_negative=True has been deprecated in 0.19 and will be removed in version 0.21.\n",
      "  \" in version 0.21.\", DeprecationWarning)\n",
      "C:\\Anaconda3\\envs\\py36\\lib\\site-packages\\sklearn\\feature_extraction\\hashing.py:94: DeprecationWarning: the option non_negative=True has been deprecated in 0.19 and will be removed in version 0.21.\n",
      "  \" in version 0.21.\", DeprecationWarning)\n",
      "C:\\Anaconda3\\envs\\py36\\lib\\site-packages\\sklearn\\feature_extraction\\hashing.py:94: DeprecationWarning: the option non_negative=True has been deprecated in 0.19 and will be removed in version 0.21.\n",
      "  \" in version 0.21.\", DeprecationWarning)\n"
     ]
    },
    {
     "name": "stdout",
     "output_type": "stream",
     "text": [
      "Processing with CountVectorizer and ExtraTreeClassifier\n",
      "Processing with TfidfVectorizer and ExtraTreeClassifier\n",
      "Processing with HashingVectorizer and ExtraTreeClassifier\n"
     ]
    },
    {
     "name": "stderr",
     "output_type": "stream",
     "text": [
      "C:\\Anaconda3\\envs\\py36\\lib\\site-packages\\sklearn\\feature_extraction\\hashing.py:94: DeprecationWarning: the option non_negative=True has been deprecated in 0.19 and will be removed in version 0.21.\n",
      "  \" in version 0.21.\", DeprecationWarning)\n",
      "C:\\Anaconda3\\envs\\py36\\lib\\site-packages\\sklearn\\feature_extraction\\hashing.py:94: DeprecationWarning: the option non_negative=True has been deprecated in 0.19 and will be removed in version 0.21.\n",
      "  \" in version 0.21.\", DeprecationWarning)\n",
      "C:\\Anaconda3\\envs\\py36\\lib\\site-packages\\sklearn\\feature_extraction\\hashing.py:94: DeprecationWarning: the option non_negative=True has been deprecated in 0.19 and will be removed in version 0.21.\n",
      "  \" in version 0.21.\", DeprecationWarning)\n"
     ]
    },
    {
     "name": "stdout",
     "output_type": "stream",
     "text": [
      "Processing with CountVectorizer and ExtraTreesClassifier\n",
      "Processing with TfidfVectorizer and ExtraTreesClassifier\n",
      "Processing with HashingVectorizer and ExtraTreesClassifier\n"
     ]
    },
    {
     "name": "stderr",
     "output_type": "stream",
     "text": [
      "C:\\Anaconda3\\envs\\py36\\lib\\site-packages\\sklearn\\feature_extraction\\hashing.py:94: DeprecationWarning: the option non_negative=True has been deprecated in 0.19 and will be removed in version 0.21.\n",
      "  \" in version 0.21.\", DeprecationWarning)\n",
      "C:\\Anaconda3\\envs\\py36\\lib\\site-packages\\sklearn\\feature_extraction\\hashing.py:94: DeprecationWarning: the option non_negative=True has been deprecated in 0.19 and will be removed in version 0.21.\n",
      "  \" in version 0.21.\", DeprecationWarning)\n",
      "C:\\Anaconda3\\envs\\py36\\lib\\site-packages\\sklearn\\feature_extraction\\hashing.py:94: DeprecationWarning: the option non_negative=True has been deprecated in 0.19 and will be removed in version 0.21.\n",
      "  \" in version 0.21.\", DeprecationWarning)\n"
     ]
    },
    {
     "name": "stdout",
     "output_type": "stream",
     "text": [
      "Processing with CountVectorizer and BaggingClassifier\n",
      "Processing with TfidfVectorizer and BaggingClassifier\n",
      "Processing with HashingVectorizer and BaggingClassifier\n"
     ]
    },
    {
     "name": "stderr",
     "output_type": "stream",
     "text": [
      "C:\\Anaconda3\\envs\\py36\\lib\\site-packages\\sklearn\\feature_extraction\\hashing.py:94: DeprecationWarning: the option non_negative=True has been deprecated in 0.19 and will be removed in version 0.21.\n",
      "  \" in version 0.21.\", DeprecationWarning)\n",
      "C:\\Anaconda3\\envs\\py36\\lib\\site-packages\\sklearn\\feature_extraction\\hashing.py:94: DeprecationWarning: the option non_negative=True has been deprecated in 0.19 and will be removed in version 0.21.\n",
      "  \" in version 0.21.\", DeprecationWarning)\n",
      "C:\\Anaconda3\\envs\\py36\\lib\\site-packages\\sklearn\\feature_extraction\\hashing.py:94: DeprecationWarning: the option non_negative=True has been deprecated in 0.19 and will be removed in version 0.21.\n",
      "  \" in version 0.21.\", DeprecationWarning)\n"
     ]
    },
    {
     "name": "stdout",
     "output_type": "stream",
     "text": [
      "Processing with CountVectorizer and RandomForestClassifier\n",
      "Processing with TfidfVectorizer and RandomForestClassifier\n",
      "Processing with HashingVectorizer and RandomForestClassifier\n"
     ]
    },
    {
     "name": "stderr",
     "output_type": "stream",
     "text": [
      "C:\\Anaconda3\\envs\\py36\\lib\\site-packages\\sklearn\\feature_extraction\\hashing.py:94: DeprecationWarning: the option non_negative=True has been deprecated in 0.19 and will be removed in version 0.21.\n",
      "  \" in version 0.21.\", DeprecationWarning)\n",
      "C:\\Anaconda3\\envs\\py36\\lib\\site-packages\\sklearn\\feature_extraction\\hashing.py:94: DeprecationWarning: the option non_negative=True has been deprecated in 0.19 and will be removed in version 0.21.\n",
      "  \" in version 0.21.\", DeprecationWarning)\n",
      "C:\\Anaconda3\\envs\\py36\\lib\\site-packages\\sklearn\\feature_extraction\\hashing.py:94: DeprecationWarning: the option non_negative=True has been deprecated in 0.19 and will be removed in version 0.21.\n",
      "  \" in version 0.21.\", DeprecationWarning)\n"
     ]
    },
    {
     "name": "stdout",
     "output_type": "stream",
     "text": [
      "Processing with CountVectorizer and AdaBoostClassifier\n",
      "Processing with TfidfVectorizer and AdaBoostClassifier\n",
      "Processing with HashingVectorizer and AdaBoostClassifier\n"
     ]
    },
    {
     "name": "stderr",
     "output_type": "stream",
     "text": [
      "C:\\Anaconda3\\envs\\py36\\lib\\site-packages\\sklearn\\feature_extraction\\hashing.py:94: DeprecationWarning: the option non_negative=True has been deprecated in 0.19 and will be removed in version 0.21.\n",
      "  \" in version 0.21.\", DeprecationWarning)\n",
      "C:\\Anaconda3\\envs\\py36\\lib\\site-packages\\sklearn\\feature_extraction\\hashing.py:94: DeprecationWarning: the option non_negative=True has been deprecated in 0.19 and will be removed in version 0.21.\n",
      "  \" in version 0.21.\", DeprecationWarning)\n",
      "C:\\Anaconda3\\envs\\py36\\lib\\site-packages\\sklearn\\feature_extraction\\hashing.py:94: DeprecationWarning: the option non_negative=True has been deprecated in 0.19 and will be removed in version 0.21.\n",
      "  \" in version 0.21.\", DeprecationWarning)\n"
     ]
    },
    {
     "name": "stdout",
     "output_type": "stream",
     "text": [
      "Processing with CountVectorizer and GradientBoostingClassifier\n",
      "Processing with TfidfVectorizer and GradientBoostingClassifier\n",
      "Processing with HashingVectorizer and GradientBoostingClassifier\n"
     ]
    },
    {
     "name": "stderr",
     "output_type": "stream",
     "text": [
      "C:\\Anaconda3\\envs\\py36\\lib\\site-packages\\sklearn\\feature_extraction\\hashing.py:94: DeprecationWarning: the option non_negative=True has been deprecated in 0.19 and will be removed in version 0.21.\n",
      "  \" in version 0.21.\", DeprecationWarning)\n",
      "C:\\Anaconda3\\envs\\py36\\lib\\site-packages\\sklearn\\feature_extraction\\hashing.py:94: DeprecationWarning: the option non_negative=True has been deprecated in 0.19 and will be removed in version 0.21.\n",
      "  \" in version 0.21.\", DeprecationWarning)\n",
      "C:\\Anaconda3\\envs\\py36\\lib\\site-packages\\sklearn\\feature_extraction\\hashing.py:94: DeprecationWarning: the option non_negative=True has been deprecated in 0.19 and will be removed in version 0.21.\n",
      "  \" in version 0.21.\", DeprecationWarning)\n"
     ]
    },
    {
     "name": "stdout",
     "output_type": "stream",
     "text": [
      "Processing with CountVectorizer and RidgeClassifier\n",
      "Processing with TfidfVectorizer and RidgeClassifier\n",
      "Processing with HashingVectorizer and RidgeClassifier\n"
     ]
    },
    {
     "name": "stderr",
     "output_type": "stream",
     "text": [
      "C:\\Anaconda3\\envs\\py36\\lib\\site-packages\\sklearn\\feature_extraction\\hashing.py:94: DeprecationWarning: the option non_negative=True has been deprecated in 0.19 and will be removed in version 0.21.\n",
      "  \" in version 0.21.\", DeprecationWarning)\n",
      "C:\\Anaconda3\\envs\\py36\\lib\\site-packages\\sklearn\\feature_extraction\\hashing.py:94: DeprecationWarning: the option non_negative=True has been deprecated in 0.19 and will be removed in version 0.21.\n",
      "  \" in version 0.21.\", DeprecationWarning)\n",
      "C:\\Anaconda3\\envs\\py36\\lib\\site-packages\\sklearn\\feature_extraction\\hashing.py:94: DeprecationWarning: the option non_negative=True has been deprecated in 0.19 and will be removed in version 0.21.\n",
      "  \" in version 0.21.\", DeprecationWarning)\n"
     ]
    },
    {
     "name": "stdout",
     "output_type": "stream",
     "text": [
      "Processing with CountVectorizer and RidgeClassifierCV\n",
      "Processing with TfidfVectorizer and RidgeClassifierCV\n",
      "Processing with HashingVectorizer and RidgeClassifierCV\n"
     ]
    },
    {
     "name": "stderr",
     "output_type": "stream",
     "text": [
      "C:\\Anaconda3\\envs\\py36\\lib\\site-packages\\sklearn\\feature_extraction\\hashing.py:94: DeprecationWarning: the option non_negative=True has been deprecated in 0.19 and will be removed in version 0.21.\n",
      "  \" in version 0.21.\", DeprecationWarning)\n",
      "C:\\Anaconda3\\envs\\py36\\lib\\site-packages\\sklearn\\feature_extraction\\hashing.py:94: DeprecationWarning: the option non_negative=True has been deprecated in 0.19 and will be removed in version 0.21.\n",
      "  \" in version 0.21.\", DeprecationWarning)\n",
      "C:\\Anaconda3\\envs\\py36\\lib\\site-packages\\sklearn\\feature_extraction\\hashing.py:94: DeprecationWarning: the option non_negative=True has been deprecated in 0.19 and will be removed in version 0.21.\n",
      "  \" in version 0.21.\", DeprecationWarning)\n"
     ]
    },
    {
     "name": "stdout",
     "output_type": "stream",
     "text": [
      "Processing with CountVectorizer and PassiveAggressiveClassifier\n",
      "Processing with TfidfVectorizer and PassiveAggressiveClassifier\n",
      "Processing with HashingVectorizer and PassiveAggressiveClassifier\n"
     ]
    },
    {
     "name": "stderr",
     "output_type": "stream",
     "text": [
      "C:\\Anaconda3\\envs\\py36\\lib\\site-packages\\sklearn\\feature_extraction\\hashing.py:94: DeprecationWarning: the option non_negative=True has been deprecated in 0.19 and will be removed in version 0.21.\n",
      "  \" in version 0.21.\", DeprecationWarning)\n",
      "C:\\Anaconda3\\envs\\py36\\lib\\site-packages\\sklearn\\feature_extraction\\hashing.py:94: DeprecationWarning: the option non_negative=True has been deprecated in 0.19 and will be removed in version 0.21.\n",
      "  \" in version 0.21.\", DeprecationWarning)\n",
      "C:\\Anaconda3\\envs\\py36\\lib\\site-packages\\sklearn\\feature_extraction\\hashing.py:94: DeprecationWarning: the option non_negative=True has been deprecated in 0.19 and will be removed in version 0.21.\n",
      "  \" in version 0.21.\", DeprecationWarning)\n"
     ]
    },
    {
     "name": "stdout",
     "output_type": "stream",
     "text": [
      "Processing with CountVectorizer and SGDClassifier\n",
      "Processing with TfidfVectorizer and SGDClassifier\n",
      "Processing with HashingVectorizer and SGDClassifier\n"
     ]
    },
    {
     "name": "stderr",
     "output_type": "stream",
     "text": [
      "C:\\Anaconda3\\envs\\py36\\lib\\site-packages\\sklearn\\feature_extraction\\hashing.py:94: DeprecationWarning: the option non_negative=True has been deprecated in 0.19 and will be removed in version 0.21.\n",
      "  \" in version 0.21.\", DeprecationWarning)\n",
      "C:\\Anaconda3\\envs\\py36\\lib\\site-packages\\sklearn\\feature_extraction\\hashing.py:94: DeprecationWarning: the option non_negative=True has been deprecated in 0.19 and will be removed in version 0.21.\n",
      "  \" in version 0.21.\", DeprecationWarning)\n",
      "C:\\Anaconda3\\envs\\py36\\lib\\site-packages\\sklearn\\feature_extraction\\hashing.py:94: DeprecationWarning: the option non_negative=True has been deprecated in 0.19 and will be removed in version 0.21.\n",
      "  \" in version 0.21.\", DeprecationWarning)\n"
     ]
    },
    {
     "name": "stdout",
     "output_type": "stream",
     "text": [
      "Processing with CountVectorizer and LogisticRegression\n",
      "Processing with TfidfVectorizer and LogisticRegression\n",
      "Processing with HashingVectorizer and LogisticRegression\n"
     ]
    },
    {
     "name": "stderr",
     "output_type": "stream",
     "text": [
      "C:\\Anaconda3\\envs\\py36\\lib\\site-packages\\sklearn\\feature_extraction\\hashing.py:94: DeprecationWarning: the option non_negative=True has been deprecated in 0.19 and will be removed in version 0.21.\n",
      "  \" in version 0.21.\", DeprecationWarning)\n",
      "C:\\Anaconda3\\envs\\py36\\lib\\site-packages\\sklearn\\feature_extraction\\hashing.py:94: DeprecationWarning: the option non_negative=True has been deprecated in 0.19 and will be removed in version 0.21.\n",
      "  \" in version 0.21.\", DeprecationWarning)\n",
      "C:\\Anaconda3\\envs\\py36\\lib\\site-packages\\sklearn\\feature_extraction\\hashing.py:94: DeprecationWarning: the option non_negative=True has been deprecated in 0.19 and will be removed in version 0.21.\n",
      "  \" in version 0.21.\", DeprecationWarning)\n"
     ]
    },
    {
     "name": "stdout",
     "output_type": "stream",
     "text": [
      "Processing with CountVectorizer and OneVsRestClassifier\n",
      "Processing with TfidfVectorizer and OneVsRestClassifier\n",
      "Processing with HashingVectorizer and OneVsRestClassifier\n"
     ]
    },
    {
     "name": "stderr",
     "output_type": "stream",
     "text": [
      "C:\\Anaconda3\\envs\\py36\\lib\\site-packages\\sklearn\\feature_extraction\\hashing.py:94: DeprecationWarning: the option non_negative=True has been deprecated in 0.19 and will be removed in version 0.21.\n",
      "  \" in version 0.21.\", DeprecationWarning)\n",
      "C:\\Anaconda3\\envs\\py36\\lib\\site-packages\\sklearn\\feature_extraction\\hashing.py:94: DeprecationWarning: the option non_negative=True has been deprecated in 0.19 and will be removed in version 0.21.\n",
      "  \" in version 0.21.\", DeprecationWarning)\n",
      "C:\\Anaconda3\\envs\\py36\\lib\\site-packages\\sklearn\\feature_extraction\\hashing.py:94: DeprecationWarning: the option non_negative=True has been deprecated in 0.19 and will be removed in version 0.21.\n",
      "  \" in version 0.21.\", DeprecationWarning)\n"
     ]
    },
    {
     "name": "stdout",
     "output_type": "stream",
     "text": [
      "Processing with CountVectorizer and OneVsRestClassifier\n",
      "Processing with TfidfVectorizer and OneVsRestClassifier\n",
      "Processing with HashingVectorizer and OneVsRestClassifier\n"
     ]
    },
    {
     "name": "stderr",
     "output_type": "stream",
     "text": [
      "C:\\Anaconda3\\envs\\py36\\lib\\site-packages\\sklearn\\feature_extraction\\hashing.py:94: DeprecationWarning: the option non_negative=True has been deprecated in 0.19 and will be removed in version 0.21.\n",
      "  \" in version 0.21.\", DeprecationWarning)\n",
      "C:\\Anaconda3\\envs\\py36\\lib\\site-packages\\sklearn\\feature_extraction\\hashing.py:94: DeprecationWarning: the option non_negative=True has been deprecated in 0.19 and will be removed in version 0.21.\n",
      "  \" in version 0.21.\", DeprecationWarning)\n",
      "C:\\Anaconda3\\envs\\py36\\lib\\site-packages\\sklearn\\feature_extraction\\hashing.py:94: DeprecationWarning: the option non_negative=True has been deprecated in 0.19 and will be removed in version 0.21.\n",
      "  \" in version 0.21.\", DeprecationWarning)\n"
     ]
    },
    {
     "name": "stdout",
     "output_type": "stream",
     "text": [
      "Processing with CountVectorizer and CalibratedClassifierCV\n",
      "Processing with TfidfVectorizer and CalibratedClassifierCV\n",
      "Processing with HashingVectorizer and CalibratedClassifierCV\n"
     ]
    },
    {
     "name": "stderr",
     "output_type": "stream",
     "text": [
      "C:\\Anaconda3\\envs\\py36\\lib\\site-packages\\sklearn\\feature_extraction\\hashing.py:94: DeprecationWarning: the option non_negative=True has been deprecated in 0.19 and will be removed in version 0.21.\n",
      "  \" in version 0.21.\", DeprecationWarning)\n",
      "C:\\Anaconda3\\envs\\py36\\lib\\site-packages\\sklearn\\feature_extraction\\hashing.py:94: DeprecationWarning: the option non_negative=True has been deprecated in 0.19 and will be removed in version 0.21.\n",
      "  \" in version 0.21.\", DeprecationWarning)\n",
      "C:\\Anaconda3\\envs\\py36\\lib\\site-packages\\sklearn\\feature_extraction\\hashing.py:94: DeprecationWarning: the option non_negative=True has been deprecated in 0.19 and will be removed in version 0.21.\n",
      "  \" in version 0.21.\", DeprecationWarning)\n"
     ]
    },
    {
     "data": {
      "text/plain": [
       "[['CountVectorizer and DummyClassifier', 0.7435744172145846],\n",
       " ['TfidfVectorizer and DummyClassifier', 0.7567244471010162],\n",
       " ['HashingVectorizer and DummyClassifier', 0.7686790197250448],\n",
       " ['CountVectorizer and BernoulliNB', 0.9778840406455469],\n",
       " ['TfidfVectorizer and BernoulliNB', 0.9778840406455469],\n",
       " ['HashingVectorizer and BernoulliNB', 0.8661087866108786],\n",
       " ['CountVectorizer and MultinomialNB', 0.9844590555887627],\n",
       " ['TfidfVectorizer and MultinomialNB', 0.9605499103407054],\n",
       " ['HashingVectorizer and MultinomialNB', 0.8852361028093245],\n",
       " ['CountVectorizer and KNeighborsClassifier', 0.9252839210998207],\n",
       " ['TfidfVectorizer and KNeighborsClassifier', 0.917513448894202],\n",
       " ['HashingVectorizer and KNeighborsClassifier', 0.9234907352062164],\n",
       " ['CountVectorizer and DecisionTreeClassifier', 0.9701135684399282],\n",
       " ['TfidfVectorizer and DecisionTreeClassifier', 0.9677226539151226],\n",
       " ['HashingVectorizer and DecisionTreeClassifier', 0.9742976688583384],\n",
       " ['CountVectorizer and ExtraTreeClassifier', 0.9581589958158996],\n",
       " ['TfidfVectorizer and ExtraTreeClassifier', 0.9563658099222953],\n",
       " ['HashingVectorizer and ExtraTreeClassifier', 0.9581589958158996],\n",
       " ['CountVectorizer and ExtraTreesClassifier', 0.9742976688583384],\n",
       " ['TfidfVectorizer and ExtraTreesClassifier', 0.9796772265391512],\n",
       " ['HashingVectorizer and ExtraTreesClassifier', 0.9665271966527197],\n",
       " ['CountVectorizer and BaggingClassifier', 0.9707112970711297],\n",
       " ['TfidfVectorizer and BaggingClassifier', 0.9707112970711297],\n",
       " ['HashingVectorizer and BaggingClassifier', 0.9701135684399282],\n",
       " ['CountVectorizer and RandomForestClassifier', 0.976688583383144],\n",
       " ['TfidfVectorizer and RandomForestClassifier', 0.9760908547519426],\n",
       " ['HashingVectorizer and RandomForestClassifier', 0.9695158398087268],\n",
       " ['CountVectorizer and AdaBoostClassifier', 0.9760908547519426],\n",
       " ['TfidfVectorizer and AdaBoostClassifier', 0.968320382546324],\n",
       " ['HashingVectorizer and AdaBoostClassifier', 0.9713090257023311],\n",
       " ['CountVectorizer and GradientBoostingClassifier', 0.9731022115959355],\n",
       " ['TfidfVectorizer and GradientBoostingClassifier', 0.9748953974895398],\n",
       " ['HashingVectorizer and GradientBoostingClassifier', 0.9754931261207412],\n",
       " ['CountVectorizer and RidgeClassifier', 0.9808726838015541],\n",
       " ['TfidfVectorizer and RidgeClassifier', 0.986252241482367],\n",
       " ['HashingVectorizer and RidgeClassifier', 0.9844590555887627],\n",
       " ['CountVectorizer and RidgeClassifierCV', 0.982068141063957],\n",
       " ['TfidfVectorizer and RidgeClassifierCV', 0.986252241482367],\n",
       " ['HashingVectorizer and RidgeClassifierCV', 0.9850567842199641],\n",
       " ['CountVectorizer and PassiveAggressiveClassifier', 0.9844590555887627],\n",
       " ['TfidfVectorizer and PassiveAggressiveClassifier', 0.9856545128511656],\n",
       " ['HashingVectorizer and PassiveAggressiveClassifier', 0.9868499701135685],\n",
       " ['CountVectorizer and SGDClassifier', 0.976688583383144],\n",
       " ['TfidfVectorizer and SGDClassifier', 0.9868499701135685],\n",
       " ['HashingVectorizer and SGDClassifier', 0.9856545128511656],\n",
       " ['CountVectorizer and LogisticRegression', 0.9850567842199641],\n",
       " ['TfidfVectorizer and LogisticRegression', 0.9748953974895398],\n",
       " ['HashingVectorizer and LogisticRegression', 0.9719067543335326],\n",
       " ['CountVectorizer and OneVsRestClassifier', 0.9838613269575612],\n",
       " ['TfidfVectorizer and OneVsRestClassifier', 0.9874476987447699],\n",
       " ['HashingVectorizer and OneVsRestClassifier', 0.9832635983263598],\n",
       " ['CountVectorizer and OneVsRestClassifier', 0.9850567842199641],\n",
       " ['TfidfVectorizer and OneVsRestClassifier', 0.9748953974895398],\n",
       " ['HashingVectorizer and OneVsRestClassifier', 0.9719067543335326],\n",
       " ['CountVectorizer and CalibratedClassifierCV', 0.9856545128511656],\n",
       " ['TfidfVectorizer and CalibratedClassifierCV', 0.9874476987447699],\n",
       " ['HashingVectorizer and CalibratedClassifierCV', 0.9868499701135685]]"
      ]
     },
     "execution_count": 6,
     "metadata": {},
     "output_type": "execute_result"
    }
   ],
   "source": [
    "import itertools\n",
    "\n",
    "vectorizers = [ \n",
    "    CountVectorizer(), \n",
    "    TfidfVectorizer(), \n",
    "    HashingVectorizer(alternate_sign=False)\n",
    "]\n",
    "\n",
    "classifiers = [\n",
    "    DummyClassifier(), # Just for fun :)\n",
    "    BernoulliNB(), \n",
    "    MultinomialNB(),\n",
    "    KNeighborsClassifier(),\n",
    "    DecisionTreeClassifier(),\n",
    "    ExtraTreeClassifier(),\n",
    "    ExtraTreesClassifier(),\n",
    "    BaggingClassifier(),    \n",
    "    RandomForestClassifier(n_estimators=100, n_jobs=-1), \n",
    "    AdaBoostClassifier(),\n",
    "    GradientBoostingClassifier(),\n",
    "    RidgeClassifier(),\n",
    "    RidgeClassifierCV(),\n",
    "    PassiveAggressiveClassifier(max_iter=100),\n",
    "    SGDClassifier(max_iter=100),\n",
    "    LogisticRegression(),\n",
    "    OneVsRestClassifier(SVC(kernel='linear')),\n",
    "    OneVsRestClassifier(LogisticRegression()),    \n",
    "    CalibratedClassifierCV(),    \n",
    "]\n",
    "\n",
    "# cvs = [(c,v) for c in classifiers for v in vectorizers]\n",
    "# Doing it lazily with generators\n",
    "cvs = itertools.product(classifiers, vectorizers)\n",
    "results = []\n",
    "for cv in cvs:\n",
    "    res = vectorize_fit_score(cv[1], cv[0], train, test)\n",
    "    results.append(res)\n",
    "results    "
   ]
  },
  {
   "cell_type": "code",
   "execution_count": 11,
   "metadata": {},
   "outputs": [
    {
     "data": {
      "text/html": [
       "<div>\n",
       "<style scoped>\n",
       "    .dataframe tbody tr th:only-of-type {\n",
       "        vertical-align: middle;\n",
       "    }\n",
       "\n",
       "    .dataframe tbody tr th {\n",
       "        vertical-align: top;\n",
       "    }\n",
       "\n",
       "    .dataframe thead th {\n",
       "        text-align: right;\n",
       "    }\n",
       "</style>\n",
       "<table border=\"1\" class=\"dataframe\">\n",
       "  <thead>\n",
       "    <tr style=\"text-align: right;\">\n",
       "      <th></th>\n",
       "      <th>Description</th>\n",
       "      <th>Score</th>\n",
       "    </tr>\n",
       "  </thead>\n",
       "  <tbody>\n",
       "    <tr>\n",
       "      <th>49</th>\n",
       "      <td>TfidfVectorizer and OneVsRestClassifier</td>\n",
       "      <td>0.987448</td>\n",
       "    </tr>\n",
       "    <tr>\n",
       "      <th>55</th>\n",
       "      <td>TfidfVectorizer and CalibratedClassifierCV</td>\n",
       "      <td>0.987448</td>\n",
       "    </tr>\n",
       "    <tr>\n",
       "      <th>41</th>\n",
       "      <td>HashingVectorizer and PassiveAggressiveClassifier</td>\n",
       "      <td>0.986850</td>\n",
       "    </tr>\n",
       "    <tr>\n",
       "      <th>43</th>\n",
       "      <td>TfidfVectorizer and SGDClassifier</td>\n",
       "      <td>0.986850</td>\n",
       "    </tr>\n",
       "    <tr>\n",
       "      <th>56</th>\n",
       "      <td>HashingVectorizer and CalibratedClassifierCV</td>\n",
       "      <td>0.986850</td>\n",
       "    </tr>\n",
       "    <tr>\n",
       "      <th>34</th>\n",
       "      <td>TfidfVectorizer and RidgeClassifier</td>\n",
       "      <td>0.986252</td>\n",
       "    </tr>\n",
       "    <tr>\n",
       "      <th>37</th>\n",
       "      <td>TfidfVectorizer and RidgeClassifierCV</td>\n",
       "      <td>0.986252</td>\n",
       "    </tr>\n",
       "    <tr>\n",
       "      <th>40</th>\n",
       "      <td>TfidfVectorizer and PassiveAggressiveClassifier</td>\n",
       "      <td>0.985655</td>\n",
       "    </tr>\n",
       "    <tr>\n",
       "      <th>44</th>\n",
       "      <td>HashingVectorizer and SGDClassifier</td>\n",
       "      <td>0.985655</td>\n",
       "    </tr>\n",
       "    <tr>\n",
       "      <th>54</th>\n",
       "      <td>CountVectorizer and CalibratedClassifierCV</td>\n",
       "      <td>0.985655</td>\n",
       "    </tr>\n",
       "    <tr>\n",
       "      <th>38</th>\n",
       "      <td>HashingVectorizer and RidgeClassifierCV</td>\n",
       "      <td>0.985057</td>\n",
       "    </tr>\n",
       "    <tr>\n",
       "      <th>45</th>\n",
       "      <td>CountVectorizer and LogisticRegression</td>\n",
       "      <td>0.985057</td>\n",
       "    </tr>\n",
       "    <tr>\n",
       "      <th>51</th>\n",
       "      <td>CountVectorizer and OneVsRestClassifier</td>\n",
       "      <td>0.985057</td>\n",
       "    </tr>\n",
       "  </tbody>\n",
       "</table>\n",
       "</div>"
      ],
      "text/plain": [
       "                                          Description     Score\n",
       "49            TfidfVectorizer and OneVsRestClassifier  0.987448\n",
       "55         TfidfVectorizer and CalibratedClassifierCV  0.987448\n",
       "41  HashingVectorizer and PassiveAggressiveClassifier  0.986850\n",
       "43                  TfidfVectorizer and SGDClassifier  0.986850\n",
       "56       HashingVectorizer and CalibratedClassifierCV  0.986850\n",
       "34                TfidfVectorizer and RidgeClassifier  0.986252\n",
       "37              TfidfVectorizer and RidgeClassifierCV  0.986252\n",
       "40    TfidfVectorizer and PassiveAggressiveClassifier  0.985655\n",
       "44                HashingVectorizer and SGDClassifier  0.985655\n",
       "54         CountVectorizer and CalibratedClassifierCV  0.985655\n",
       "38            HashingVectorizer and RidgeClassifierCV  0.985057\n",
       "45             CountVectorizer and LogisticRegression  0.985057\n",
       "51            CountVectorizer and OneVsRestClassifier  0.985057"
      ]
     },
     "execution_count": 11,
     "metadata": {},
     "output_type": "execute_result"
    }
   ],
   "source": [
    "results_df = pd.DataFrame(data=results, columns=['Description', 'Score'])\n",
    "results_df.to_csv('data/uci_edu/outputs/results.csv', header=True)\n",
    "FileLink('data/uci_edu/outputs/results.csv')\n",
    "results_df[results_df.Score > 0.985].sort_values(['Score'],ascending=[False])"
   ]
  },
  {
   "cell_type": "markdown",
   "metadata": {},
   "source": [
    "## Playground"
   ]
  },
  {
   "cell_type": "code",
   "execution_count": null,
   "metadata": {},
   "outputs": [],
   "source": [
    "import itertools\n",
    "a = [1,2,3]\n",
    "b = ['a','b','c']\n",
    "for p in itertools.product(a,b):\n",
    "    print(p[])"
   ]
  },
  {
   "cell_type": "code",
   "execution_count": null,
   "metadata": {},
   "outputs": [],
   "source": []
  }
 ],
 "metadata": {
  "kernelspec": {
   "display_name": "Python 3",
   "language": "python",
   "name": "python3"
  },
  "language_info": {
   "codemirror_mode": {
    "name": "ipython",
    "version": 3
   },
   "file_extension": ".py",
   "mimetype": "text/x-python",
   "name": "python",
   "nbconvert_exporter": "python",
   "pygments_lexer": "ipython3",
   "version": "3.6.6"
  }
 },
 "nbformat": 4,
 "nbformat_minor": 2
}
