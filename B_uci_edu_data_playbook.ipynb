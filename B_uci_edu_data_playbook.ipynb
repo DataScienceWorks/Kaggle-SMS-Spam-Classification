{
 "cells": [
  {
   "cell_type": "markdown",
   "metadata": {},
   "source": [
    "## Play with complete dataset from uci.edu\n",
    "\n",
    "The objective of this is to better my learning with the complete datasest that is got from uci.edu archieves"
   ]
  },
  {
   "cell_type": "code",
   "execution_count": 13,
   "metadata": {},
   "outputs": [],
   "source": [
    "import io\n",
    "import numpy as np\n",
    "import pandas as pd\n",
    "import codecs # For file reading\n",
    "from IPython.display import FileLink # For displaying file link in cell-output\n",
    "\n",
    "%matplotlib inline\n",
    "import matplotlib.pyplot as plt"
   ]
  },
  {
   "cell_type": "markdown",
   "metadata": {},
   "source": [
    "## Read raw source and save it as csv file"
   ]
  },
  {
   "cell_type": "code",
   "execution_count": null,
   "metadata": {},
   "outputs": [],
   "source": [
    "# How do the lines look like in the target file?\n",
    "!head -n 10 ./data/uci_edu/SMSSpamCollection.txt"
   ]
  },
  {
   "cell_type": "code",
   "execution_count": null,
   "metadata": {},
   "outputs": [],
   "source": [
    "# Read input source\n",
    "with codecs.open('./data/uci_edu/SMSSpamCollection.txt') as f:\n",
    "    labels, messages = zip(*[line.split('\\t', maxsplit=2) for line in f.readlines()])"
   ]
  },
  {
   "cell_type": "code",
   "execution_count": null,
   "metadata": {},
   "outputs": [],
   "source": [
    "# Persist input source as CSV file\n",
    "df = pd.DataFrame(data={ 'Message' : messages, 'Label' : labels})\n",
    "df.to_csv('data/uci_edu/{}'.format('SMSSpamCollection.csv'), index=False)\n",
    "FileLink('data/uci_edu/{}'.format('SMSSpamCollection.csv'))\n",
    "df.head()"
   ]
  },
  {
   "cell_type": "markdown",
   "metadata": {},
   "source": [
    "## Shuffle-N-Split input source for Train-N-Test"
   ]
  },
  {
   "cell_type": "code",
   "execution_count": null,
   "metadata": {},
   "outputs": [],
   "source": [
    "df.isnull().sum() # Basic sanity check for null values"
   ]
  },
  {
   "cell_type": "code",
   "execution_count": null,
   "metadata": {},
   "outputs": [],
   "source": [
    "from sklearn.model_selection import StratifiedShuffleSplit\n",
    "sss = StratifiedShuffleSplit(n_splits=2, random_state=42, train_size=.7)\n",
    "splits = sss.split(df, df['Label'])\n",
    "train_indices, test_indices = [*splits][0]"
   ]
  },
  {
   "cell_type": "code",
   "execution_count": null,
   "metadata": {},
   "outputs": [],
   "source": [
    "print('Total Count = ', df.shape[0])\n",
    "print()\n",
    "\n",
    "train_mask = df.index.isin(train_indices)\n",
    "train = df[train_mask]\n",
    "print('Train Count = ', train.shape[0])\n",
    "print('Train value counts :\\n', train['Label'].value_counts())\n",
    "print()\n",
    "\n",
    "test = df[~train_mask]\n",
    "print('Test Count = ', test.shape[0])\n",
    "print('Test value counts :\\n', test['Label'].value_counts())"
   ]
  },
  {
   "cell_type": "code",
   "execution_count": null,
   "metadata": {},
   "outputs": [],
   "source": [
    "train.to_csv('data/uci_edu/train.csv', index_label=['Id'])\n",
    "test.to_csv('data/uci_edu/test.csv', index_label=['Id'])"
   ]
  },
  {
   "cell_type": "markdown",
   "metadata": {},
   "source": [
    "## Feature Extraction and Data Modeling"
   ]
  },
  {
   "cell_type": "code",
   "execution_count": 18,
   "metadata": {},
   "outputs": [
    {
     "name": "stdout",
     "output_type": "stream",
     "text": [
      "                                              Message  Label\n",
      "Id                                                          \n",
      "0   Go until jurong point, crazy.. Available only ...      0\n",
      "1                   Ok lar... Joking wif u oni...\\r\\n      0\n",
      "3   U dun say so early hor... U c already then say...      0\n",
      "8   WINNER!! As a valued network customer you have...      1\n",
      "9   Had your mobile 11 months or more? U R entitle...      1\n",
      "\n",
      "                                              Message  Label\n",
      "Id                                                          \n",
      "2   Free entry in 2 a wkly comp to win FA Cup fina...      1\n",
      "4   Nah I don't think he goes to usf, he lives aro...      0\n",
      "5   FreeMsg Hey there darling it's been 3 week's n...      1\n",
      "6   Even my brother is not like to speak with me. ...      0\n",
      "7   As per your request 'Melle Melle (Oru Minnamin...      0\n"
     ]
    }
   ],
   "source": [
    "train = pd.read_csv('data/uci_edu/train.csv', index_col='Id')\n",
    "test = pd.read_csv('data/uci_edu/test.csv', index_col='Id')\n",
    "\n",
    "train['Label'] = train['Label'].apply(lambda y : 1 if y=='spam' else 0)\n",
    "test['Label'] = test['Label'].apply(lambda y : 1 if y=='spam' else 0)\n",
    "\n",
    "print(train.head())\n",
    "print()\n",
    "print(test.head())"
   ]
  },
  {
   "cell_type": "code",
   "execution_count": 22,
   "metadata": {},
   "outputs": [],
   "source": [
    "# Vectorizer or Feature Extractors\n",
    "from sklearn.feature_extraction.text import CountVectorizer, TfidfVectorizer, HashingVectorizer\n",
    "\n",
    "# Classifiers\n",
    "from sklearn.dummy import DummyClassifier\n",
    "from sklearn.naive_bayes import BernoulliNB, MultinomialNB\n",
    "from sklearn.neighbors import KNeighborsClassifier \n",
    "from sklearn.tree import DecisionTreeClassifier, ExtraTreeClassifier\n",
    "from sklearn.ensemble import BaggingClassifier, ExtraTreesClassifier, RandomForestClassifier\n",
    "from sklearn.ensemble import AdaBoostClassifier, GradientBoostingClassifier\n",
    "from sklearn.linear_model import RidgeClassifier, RidgeClassifierCV, PassiveAggressiveClassifier\n",
    "from sklearn.linear_model import SGDClassifier, LogisticRegression\n",
    "from sklearn.multiclass import OneVsRestClassifier\n",
    "from sklearn.svm import SVC\n",
    "from sklearn.calibration import CalibratedClassifierCV\n",
    "\n",
    "# Metrics\n",
    "from sklearn.metrics import accuracy_score, classification_report, confusion_matrix, f1_score, roc_auc_score"
   ]
  },
  {
   "cell_type": "code",
   "execution_count": 25,
   "metadata": {},
   "outputs": [],
   "source": [
    "def vectorize_fit_score(vectorizer, classifier, train_df, test_df):\n",
    "    desc = '{0} and {1}'.format(vectorizer.__class__.__name__, classifier.__class__.__name__)\n",
    "#     print('Processing with {}'.format(desc))\n",
    "    \n",
    "    # 1. vectorize and fit\n",
    "    vectorized_text = vectorizer.fit_transform(train_df['Message'])\n",
    "    classifier.fit(vectorized_text, train_df['Label'])\n",
    "    # 2. vectorize and score\n",
    "    vectorized_text = vectorizer.transform(test_df['Message']) # Not `fit_transform` but just `transform`\n",
    "    score = classifier.score(vectorized_text, test_df['Label'])\n",
    "    \n",
    "    return [desc, score]"
   ]
  },
  {
   "cell_type": "code",
   "execution_count": null,
   "metadata": {},
   "outputs": [],
   "source": [
    "results = []\n",
    "results.append(vectorize_fit_score(CountVectorizer(), BernoulliNB(), train, test))\n",
    "results.append(vectorize_fit_score(TfidfVectorizer(), BernoulliNB(), train, test))\n",
    "results.append(vectorize_fit_score(HashingVectorizer(), BernoulliNB(), train, test))\n",
    "results.append(vectorize_fit_score(CountVectorizer(), MultinomialNB(), train, test))\n",
    "results.append(vectorize_fit_score(TfidfVectorizer(), MultinomialNB(), train, test))\n",
    "results.append(vectorize_fit_score(HashingVectorizer(non_negative=True), MultinomialNB(), train, test))\n",
    "results"
   ]
  },
  {
   "cell_type": "code",
   "execution_count": 26,
   "metadata": {},
   "outputs": [
    {
     "data": {
      "text/plain": [
       "[['CountVectorizer and DummyClassifier', 0.7776449491930664],\n",
       " ['TfidfVectorizer and DummyClassifier', 0.7638971906754334],\n",
       " ['HashingVectorizer and DummyClassifier', 0.7704722056186492],\n",
       " ['CountVectorizer and BernoulliNB', 0.9778840406455469],\n",
       " ['TfidfVectorizer and BernoulliNB', 0.9778840406455469],\n",
       " ['HashingVectorizer and BernoulliNB', 0.8661087866108786],\n",
       " ['CountVectorizer and MultinomialNB', 0.9844590555887627],\n",
       " ['TfidfVectorizer and MultinomialNB', 0.9605499103407054],\n",
       " ['HashingVectorizer and MultinomialNB', 0.8852361028093245],\n",
       " ['CountVectorizer and KNeighborsClassifier', 0.9252839210998207],\n",
       " ['TfidfVectorizer and KNeighborsClassifier', 0.917513448894202],\n",
       " ['HashingVectorizer and KNeighborsClassifier', 0.9234907352062164],\n",
       " ['CountVectorizer and DecisionTreeClassifier', 0.972504482964734],\n",
       " ['TfidfVectorizer and DecisionTreeClassifier', 0.9671249252839211],\n",
       " ['HashingVectorizer and DecisionTreeClassifier', 0.972504482964734],\n",
       " ['CountVectorizer and ExtraTreeClassifier', 0.9760908547519426],\n",
       " ['TfidfVectorizer and ExtraTreeClassifier', 0.9563658099222953],\n",
       " ['HashingVectorizer and ExtraTreeClassifier', 0.9509862522414824],\n",
       " ['CountVectorizer and ExtraTreesClassifier', 0.9772863120143455],\n",
       " ['TfidfVectorizer and ExtraTreesClassifier', 0.9772863120143455],\n",
       " ['HashingVectorizer and ExtraTreesClassifier', 0.9665271966527197],\n",
       " ['CountVectorizer and BaggingClassifier', 0.9701135684399282],\n",
       " ['TfidfVectorizer and BaggingClassifier', 0.9707112970711297],\n",
       " ['HashingVectorizer and BaggingClassifier', 0.9713090257023311],\n",
       " ['CountVectorizer and RandomForestClassifier', 0.9784817692767483],\n",
       " ['TfidfVectorizer and RandomForestClassifier', 0.9772863120143455],\n",
       " ['HashingVectorizer and RandomForestClassifier', 0.9689181111775254],\n",
       " ['CountVectorizer and AdaBoostClassifier', 0.9760908547519426],\n",
       " ['TfidfVectorizer and AdaBoostClassifier', 0.9707112970711297],\n",
       " ['HashingVectorizer and AdaBoostClassifier', 0.9713090257023311],\n",
       " ['CountVectorizer and GradientBoostingClassifier', 0.972504482964734],\n",
       " ['TfidfVectorizer and GradientBoostingClassifier', 0.9742976688583384],\n",
       " ['HashingVectorizer and GradientBoostingClassifier', 0.9760908547519426],\n",
       " ['CountVectorizer and RidgeClassifier', 0.9808726838015541],\n",
       " ['TfidfVectorizer and RidgeClassifier', 0.986252241482367],\n",
       " ['HashingVectorizer and RidgeClassifier', 0.9844590555887627],\n",
       " ['CountVectorizer and RidgeClassifierCV', 0.982068141063957],\n",
       " ['TfidfVectorizer and RidgeClassifierCV', 0.986252241482367],\n",
       " ['HashingVectorizer and RidgeClassifierCV', 0.9850567842199641],\n",
       " ['CountVectorizer and PassiveAggressiveClassifier', 0.9856545128511656],\n",
       " ['TfidfVectorizer and PassiveAggressiveClassifier', 0.9850567842199641],\n",
       " ['HashingVectorizer and PassiveAggressiveClassifier', 0.9856545128511656],\n",
       " ['CountVectorizer and SGDClassifier', 0.9748953974895398],\n",
       " ['TfidfVectorizer and SGDClassifier', 0.9868499701135685],\n",
       " ['HashingVectorizer and SGDClassifier', 0.9856545128511656],\n",
       " ['CountVectorizer and LogisticRegression', 0.9850567842199641],\n",
       " ['TfidfVectorizer and LogisticRegression', 0.9748953974895398],\n",
       " ['HashingVectorizer and LogisticRegression', 0.9719067543335326],\n",
       " ['CountVectorizer and OneVsRestClassifier', 0.9838613269575612],\n",
       " ['TfidfVectorizer and OneVsRestClassifier', 0.9874476987447699],\n",
       " ['HashingVectorizer and OneVsRestClassifier', 0.9832635983263598],\n",
       " ['CountVectorizer and OneVsRestClassifier', 0.9850567842199641],\n",
       " ['TfidfVectorizer and OneVsRestClassifier', 0.9748953974895398],\n",
       " ['HashingVectorizer and OneVsRestClassifier', 0.9719067543335326],\n",
       " ['CountVectorizer and CalibratedClassifierCV', 0.9856545128511656],\n",
       " ['TfidfVectorizer and CalibratedClassifierCV', 0.9874476987447699],\n",
       " ['HashingVectorizer and CalibratedClassifierCV', 0.9868499701135685]]"
      ]
     },
     "execution_count": 26,
     "metadata": {},
     "output_type": "execute_result"
    }
   ],
   "source": [
    "import itertools\n",
    "\n",
    "vectorizers = [ \n",
    "    CountVectorizer(), \n",
    "    TfidfVectorizer(), \n",
    "    HashingVectorizer(alternate_sign=False)\n",
    "]\n",
    "\n",
    "classifiers = [\n",
    "    DummyClassifier(), # Just for fun :)\n",
    "    BernoulliNB(), \n",
    "    MultinomialNB(),\n",
    "    KNeighborsClassifier(),\n",
    "    DecisionTreeClassifier(),\n",
    "    ExtraTreeClassifier(),\n",
    "    ExtraTreesClassifier(),\n",
    "    BaggingClassifier(),    \n",
    "    RandomForestClassifier(n_estimators=100, n_jobs=-1), \n",
    "    AdaBoostClassifier(),\n",
    "    GradientBoostingClassifier(),\n",
    "    RidgeClassifier(),\n",
    "    RidgeClassifierCV(),\n",
    "    PassiveAggressiveClassifier(max_iter=100),\n",
    "    SGDClassifier(max_iter=100),\n",
    "    LogisticRegression(),\n",
    "    OneVsRestClassifier(SVC(kernel='linear')),\n",
    "    OneVsRestClassifier(LogisticRegression()),    \n",
    "    CalibratedClassifierCV(),    \n",
    "]\n",
    "\n",
    "# cvs = [(c,v) for c in classifiers for v in vectorizers]\n",
    "# Doing it lazily with generators\n",
    "cvs = itertools.product(classifiers, vectorizers)\n",
    "results = []\n",
    "for cv in cvs:\n",
    "    res = vectorize_fit_score(cv[1], cv[0], train, test)\n",
    "    results.append(res)\n",
    "results    "
   ]
  },
  {
   "cell_type": "code",
   "execution_count": 17,
   "metadata": {},
   "outputs": [
    {
     "data": {
      "text/html": [
       "<div>\n",
       "<style scoped>\n",
       "    .dataframe tbody tr th:only-of-type {\n",
       "        vertical-align: middle;\n",
       "    }\n",
       "\n",
       "    .dataframe tbody tr th {\n",
       "        vertical-align: top;\n",
       "    }\n",
       "\n",
       "    .dataframe thead th {\n",
       "        text-align: right;\n",
       "    }\n",
       "</style>\n",
       "<table border=\"1\" class=\"dataframe\">\n",
       "  <thead>\n",
       "    <tr style=\"text-align: right;\">\n",
       "      <th></th>\n",
       "      <th>Description</th>\n",
       "      <th>Score</th>\n",
       "    </tr>\n",
       "  </thead>\n",
       "  <tbody>\n",
       "    <tr>\n",
       "      <th>49</th>\n",
       "      <td>TfidfVectorizer and OneVsRestClassifier</td>\n",
       "      <td>0.987448</td>\n",
       "    </tr>\n",
       "    <tr>\n",
       "      <th>55</th>\n",
       "      <td>TfidfVectorizer and CalibratedClassifierCV</td>\n",
       "      <td>0.987448</td>\n",
       "    </tr>\n",
       "    <tr>\n",
       "      <th>41</th>\n",
       "      <td>HashingVectorizer and PassiveAggressiveClassifier</td>\n",
       "      <td>0.986850</td>\n",
       "    </tr>\n",
       "    <tr>\n",
       "      <th>43</th>\n",
       "      <td>TfidfVectorizer and SGDClassifier</td>\n",
       "      <td>0.986850</td>\n",
       "    </tr>\n",
       "    <tr>\n",
       "      <th>56</th>\n",
       "      <td>HashingVectorizer and CalibratedClassifierCV</td>\n",
       "      <td>0.986850</td>\n",
       "    </tr>\n",
       "    <tr>\n",
       "      <th>34</th>\n",
       "      <td>TfidfVectorizer and RidgeClassifier</td>\n",
       "      <td>0.986252</td>\n",
       "    </tr>\n",
       "    <tr>\n",
       "      <th>37</th>\n",
       "      <td>TfidfVectorizer and RidgeClassifierCV</td>\n",
       "      <td>0.986252</td>\n",
       "    </tr>\n",
       "    <tr>\n",
       "      <th>40</th>\n",
       "      <td>TfidfVectorizer and PassiveAggressiveClassifier</td>\n",
       "      <td>0.985655</td>\n",
       "    </tr>\n",
       "    <tr>\n",
       "      <th>44</th>\n",
       "      <td>HashingVectorizer and SGDClassifier</td>\n",
       "      <td>0.985655</td>\n",
       "    </tr>\n",
       "    <tr>\n",
       "      <th>54</th>\n",
       "      <td>CountVectorizer and CalibratedClassifierCV</td>\n",
       "      <td>0.985655</td>\n",
       "    </tr>\n",
       "    <tr>\n",
       "      <th>38</th>\n",
       "      <td>HashingVectorizer and RidgeClassifierCV</td>\n",
       "      <td>0.985057</td>\n",
       "    </tr>\n",
       "    <tr>\n",
       "      <th>45</th>\n",
       "      <td>CountVectorizer and LogisticRegression</td>\n",
       "      <td>0.985057</td>\n",
       "    </tr>\n",
       "    <tr>\n",
       "      <th>51</th>\n",
       "      <td>CountVectorizer and OneVsRestClassifier</td>\n",
       "      <td>0.985057</td>\n",
       "    </tr>\n",
       "  </tbody>\n",
       "</table>\n",
       "</div>"
      ],
      "text/plain": [
       "                                          Description     Score\n",
       "49            TfidfVectorizer and OneVsRestClassifier  0.987448\n",
       "55         TfidfVectorizer and CalibratedClassifierCV  0.987448\n",
       "41  HashingVectorizer and PassiveAggressiveClassifier  0.986850\n",
       "43                  TfidfVectorizer and SGDClassifier  0.986850\n",
       "56       HashingVectorizer and CalibratedClassifierCV  0.986850\n",
       "34                TfidfVectorizer and RidgeClassifier  0.986252\n",
       "37              TfidfVectorizer and RidgeClassifierCV  0.986252\n",
       "40    TfidfVectorizer and PassiveAggressiveClassifier  0.985655\n",
       "44                HashingVectorizer and SGDClassifier  0.985655\n",
       "54         CountVectorizer and CalibratedClassifierCV  0.985655\n",
       "38            HashingVectorizer and RidgeClassifierCV  0.985057\n",
       "45             CountVectorizer and LogisticRegression  0.985057\n",
       "51            CountVectorizer and OneVsRestClassifier  0.985057"
      ]
     },
     "execution_count": 17,
     "metadata": {},
     "output_type": "execute_result"
    }
   ],
   "source": [
    "results_df = pd.DataFrame(data=results, columns=['Description', 'Score'])\n",
    "results_df.to_csv('data/uci_edu/outputs/results.csv', header=True, index_label='Id')\n",
    "FileLink('data/uci_edu/outputs/results.csv')\n",
    "results_df[results_df.Score > 0.985].sort_values(['Score'],ascending=[False])"
   ]
  },
  {
   "cell_type": "code",
   "execution_count": 23,
   "metadata": {},
   "outputs": [
    {
     "name": "stdout",
     "output_type": "stream",
     "text": [
      "Classification Report:\n",
      "              precision    recall  f1-score   support\n",
      "\n",
      "        ham       0.98      1.00      0.99      1449\n",
      "       spam       0.99      0.87      0.93       224\n",
      "\n",
      "avg / total       0.98      0.98      0.98      1673\n",
      "\n",
      "Confusion Matrix:\n",
      " [[1447    2]\n",
      " [  29  195]]\n"
     ]
    },
    {
     "data": {
      "text/plain": [
       "<matplotlib.colorbar.Colorbar at 0x16dd1e17b00>"
      ]
     },
     "execution_count": 23,
     "metadata": {},
     "output_type": "execute_result"
    },
    {
     "data": {
      "image/png": "[encoded data removed]",
      "text/plain": [
       "<Figure size 288x288 with 2 Axes>"
      ]
     },
     "metadata": {},
     "output_type": "display_data"
    }
   ],
   "source": [
    "# OBJECTIVE : Analysing the top performer\n",
    "\n",
    "clf = SGDClassifier(max_iter=100, loss='log')\n",
    "vect = TfidfVectorizer()\n",
    "\n",
    "# 1. vectorize and fit\n",
    "vectorized_text = vect.fit_transform(train['Message'])\n",
    "clf.fit(vectorized_text, train['Label'])\n",
    "\n",
    "# 2. vectorize and score\n",
    "vectorized_text = vect.transform(test['Message'])\n",
    "preds = clf.predict(vectorized_text)\n",
    "proba = clf.predict_proba(vectorized_text)\n",
    "spam_proba = proba[:,1]\n",
    "\n",
    "clf_score = clf.score(vectorized_text, test['Label'])\n",
    "acc_score = accuracy_score(test['Label'],preds)\n",
    "auc_score = roc_auc_score(test['Label'],spam_proba)\n",
    "\n",
    "creport = classification_report(test['Label'], preds, target_names=['ham','spam'])\n",
    "print('Classification Report:\\n',creport)\n",
    "\n",
    "cmat = confusion_matrix(test['Label'],preds)\n",
    "print('Confusion Matrix:\\n', cmat)\n",
    "\n",
    "# Show confusion matrix\n",
    "plt.matshow(cmat)\n",
    "plt.title('Confusion matrix of the %s classifier' % 'SGD')\n",
    "plt.colorbar()"
   ]
  },
  {
   "cell_type": "markdown",
   "metadata": {},
   "source": [
    "## Playground"
   ]
  },
  {
   "cell_type": "code",
   "execution_count": null,
   "metadata": {},
   "outputs": [],
   "source": [
    "import itertools\n",
    "a = [1,2,3]\n",
    "b = ['a','b','c']\n",
    "for p in itertools.product(a,b):\n",
    "    print(p[])"
   ]
  },
  {
   "cell_type": "code",
   "execution_count": null,
   "metadata": {},
   "outputs": [],
   "source": []
  }
 ],
 "metadata": {
  "kernelspec": {
   "display_name": "Python 3",
   "language": "python",
   "name": "python3"
  },
  "language_info": {
   "codemirror_mode": {
    "name": "ipython",
    "version": 3
   },
   "file_extension": ".py",
   "mimetype": "text/x-python",
   "name": "python",
   "nbconvert_exporter": "python",
   "pygments_lexer": "ipython3",
   "version": "3.6.6"
  }
 },
 "nbformat": 4,
 "nbformat_minor": 2
}
